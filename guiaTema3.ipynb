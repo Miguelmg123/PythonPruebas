{
  "nbformat": 4,
  "nbformat_minor": 0,
  "metadata": {
    "colab": {
      "provenance": [],
      "authorship_tag": "ABX9TyOjAdcowZ7ow8GBzSMwI5Md",
      "include_colab_link": true
    },
    "kernelspec": {
      "name": "python3",
      "display_name": "Python 3"
    },
    "language_info": {
      "name": "python"
    }
  },
  "cells": [
    {
      "cell_type": "markdown",
      "metadata": {
        "id": "view-in-github",
        "colab_type": "text"
      },
      "source": [
        "<a href=\"https://colab.research.google.com/github/Miguelmg123/PythonPruebas/blob/main/guiaTema3.ipynb\" target=\"_parent\"><img src=\"https://colab.research.google.com/assets/colab-badge.svg\" alt=\"Open In Colab\"/></a>"
      ]
    },
    {
      "cell_type": "code",
      "execution_count": null,
      "metadata": {
        "id": "YtNxz93eMt5s"
      },
      "outputs": [],
      "source": [
        "lista=[3, 'hoja', 3]"
      ]
    },
    {
      "cell_type": "code",
      "source": [
        "lista.index(3)  # devuelve el indice de la primera coincidencia"
      ],
      "metadata": {
        "colab": {
          "base_uri": "https://localhost:8080/"
        },
        "id": "H0oKoNTNNLiI",
        "outputId": "b873432f-7755-4a71-c041-9280fe801086"
      },
      "execution_count": null,
      "outputs": [
        {
          "output_type": "execute_result",
          "data": {
            "text/plain": [
              "0"
            ]
          },
          "metadata": {},
          "execution_count": 2
        }
      ]
    },
    {
      "cell_type": "code",
      "source": [
        "'''metodos de listaas\n",
        "append y extend insertan de forma diferente los elementos\n",
        "'''\n",
        "lista.append([1,2])  # [3, 'hoja', 3, [1, 2]]\n",
        "lista.extend([1,2])  # [3, 'hoja', 3, [1, 2], 1, 2]\n",
        "lista.pop(3)  #devuelve [1, 2], y lista se convierte en [3, 'hoja', 3, 1, 2]"
      ],
      "metadata": {
        "colab": {
          "base_uri": "https://localhost:8080/"
        },
        "id": "X8AT-FKWOQC6",
        "outputId": "ad659d74-48f0-4ca5-91d5-f1b38f21beb2"
      },
      "execution_count": null,
      "outputs": [
        {
          "output_type": "execute_result",
          "data": {
            "text/plain": [
              "[1, 2]"
            ]
          },
          "metadata": {},
          "execution_count": 3
        }
      ]
    },
    {
      "cell_type": "code",
      "source": [
        "lista\n"
      ],
      "metadata": {
        "colab": {
          "base_uri": "https://localhost:8080/"
        },
        "id": "7rVJ5sE8PPil",
        "outputId": "000e3f3d-874e-4cce-fd51-0399e99dfb2e"
      },
      "execution_count": null,
      "outputs": [
        {
          "output_type": "execute_result",
          "data": {
            "text/plain": [
              "[3, 'hoja', 3, 1, 2]"
            ]
          },
          "metadata": {},
          "execution_count": 4
        }
      ]
    },
    {
      "cell_type": "markdown",
      "source": [
        "# Tuplas"
      ],
      "metadata": {
        "id": "kPrbMklrQm24"
      }
    },
    {
      "cell_type": "code",
      "source": [
        "tupla= 1, 2, 3, 4, 5\n",
        "tupla"
      ],
      "metadata": {
        "colab": {
          "base_uri": "https://localhost:8080/"
        },
        "id": "8H2AuAzyQxpR",
        "outputId": "b0413826-6023-4be9-c0ad-5cf5260037c1"
      },
      "execution_count": null,
      "outputs": [
        {
          "output_type": "execute_result",
          "data": {
            "text/plain": [
              "(1, 2, 3, 4, 5)"
            ]
          },
          "metadata": {},
          "execution_count": 5
        }
      ]
    },
    {
      "cell_type": "code",
      "source": [
        "# desempaquetado\n",
        "x1, x2, x3, x4, x5= tupla\n",
        "x1"
      ],
      "metadata": {
        "colab": {
          "base_uri": "https://localhost:8080/"
        },
        "id": "3B8H23cyRpc6",
        "outputId": "36e88185-9660-4612-806e-f79f46753292"
      },
      "execution_count": null,
      "outputs": [
        {
          "output_type": "execute_result",
          "data": {
            "text/plain": [
              "1"
            ]
          },
          "metadata": {},
          "execution_count": 6
        }
      ]
    },
    {
      "cell_type": "code",
      "source": [
        "tupla[3]  # devuelve 4"
      ],
      "metadata": {
        "colab": {
          "base_uri": "https://localhost:8080/"
        },
        "id": "YJfI16chR4uT",
        "outputId": "9b808f73-f823-447c-c27f-dd5de0716e82"
      },
      "execution_count": null,
      "outputs": [
        {
          "output_type": "execute_result",
          "data": {
            "text/plain": [
              "4"
            ]
          },
          "metadata": {},
          "execution_count": 7
        }
      ]
    },
    {
      "cell_type": "markdown",
      "source": [
        "# Diccionarios"
      ],
      "metadata": {
        "id": "NCiKxRm-V2jN"
      }
    },
    {
      "cell_type": "code",
      "source": [
        "dicc={'a':1, 'b':'Hola', 'ac':3}\n",
        "dicc"
      ],
      "metadata": {
        "colab": {
          "base_uri": "https://localhost:8080/"
        },
        "id": "Lu6eDyR2V6vu",
        "outputId": "76ff546a-e30e-4139-c1c1-754eade17709"
      },
      "execution_count": null,
      "outputs": [
        {
          "output_type": "execute_result",
          "data": {
            "text/plain": [
              "{'a': 1, 'b': 'Hola', 'ac': 3}"
            ]
          },
          "metadata": {},
          "execution_count": 13
        }
      ]
    },
    {
      "cell_type": "code",
      "source": [
        "dicc['a']  # devuelve 1\n",
        "dicc['a']=6  # modifica el valor de la clave a\n",
        "dicc"
      ],
      "metadata": {
        "colab": {
          "base_uri": "https://localhost:8080/"
        },
        "id": "3VCbXjjcV_qB",
        "outputId": "0261b5bd-5cd4-4faf-a340-7a82c0198faf"
      },
      "execution_count": null,
      "outputs": [
        {
          "output_type": "execute_result",
          "data": {
            "text/plain": [
              "{'a': 6, 'b': 'Hola', 'ac': 3}"
            ]
          },
          "metadata": {},
          "execution_count": 14
        }
      ]
    },
    {
      "cell_type": "code",
      "source": [
        "del dicc['a']  # elimina la clave a\n",
        "dicc"
      ],
      "metadata": {
        "colab": {
          "base_uri": "https://localhost:8080/"
        },
        "id": "r99LPnUMWkgI",
        "outputId": "c6b506f7-8f7c-4e06-e7e4-ac90bd786978"
      },
      "execution_count": null,
      "outputs": [
        {
          "output_type": "execute_result",
          "data": {
            "text/plain": [
              "{'b': 'Hola', 'ac': 3}"
            ]
          },
          "metadata": {},
          "execution_count": 15
        }
      ]
    },
    {
      "cell_type": "code",
      "source": [
        "list(dicc)  # devuelve las claves del diccionario\n",
        "sorted(dicc)  # devuelve las claves del diccionario ordenadas"
      ],
      "metadata": {
        "colab": {
          "base_uri": "https://localhost:8080/"
        },
        "id": "3SZnNUK6WxDa",
        "outputId": "900614b9-b399-4799-e1ed-438d70b237f5"
      },
      "execution_count": null,
      "outputs": [
        {
          "output_type": "execute_result",
          "data": {
            "text/plain": [
              "['ac', 'b']"
            ]
          },
          "metadata": {},
          "execution_count": 16
        }
      ]
    },
    {
      "cell_type": "code",
      "source": [
        "'cb' in dicc  # comprueba si 'cb' es una clave del diccionario, devuelve False"
      ],
      "metadata": {
        "colab": {
          "base_uri": "https://localhost:8080/"
        },
        "id": "WAgjcLyvYv4E",
        "outputId": "3b6c7f7a-bae1-44d2-b430-120670126759"
      },
      "execution_count": null,
      "outputs": [
        {
          "output_type": "execute_result",
          "data": {
            "text/plain": [
              "False"
            ]
          },
          "metadata": {},
          "execution_count": 17
        }
      ]
    },
    {
      "cell_type": "code",
      "source": [],
      "metadata": {
        "id": "s2-E9OqwisV9"
      },
      "execution_count": null,
      "outputs": []
    }
  ]
}